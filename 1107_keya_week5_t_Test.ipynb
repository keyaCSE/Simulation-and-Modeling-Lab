{
  "nbformat": 4,
  "nbformat_minor": 0,
  "metadata": {
    "colab": {
      "provenance": []
    },
    "kernelspec": {
      "name": "python3",
      "display_name": "Python 3"
    },
    "language_info": {
      "name": "python"
    }
  },
  "cells": [
    {
      "cell_type": "code",
      "source": [],
      "metadata": {
        "id": "R-QoRmVsZmLn"
      },
      "execution_count": null,
      "outputs": []
    },
    {
      "cell_type": "code",
      "execution_count": 1,
      "metadata": {
        "id": "-gs28T7YYGjh"
      },
      "outputs": [],
      "source": [
        "import numpy as np\n",
        "import matplotlib.pyplot as plt\n",
        "from scipy import stats"
      ]
    },
    {
      "cell_type": "code",
      "source": [
        "np.random.seed(42)\n",
        "k = 81  # last 2 digit of phone number\n",
        "data = 60 + np.random.randint(0, 15, size=12) + (k % 5)\n",
        "\n",
        "print(\"Dataset (exam scores):\", data)"
      ],
      "metadata": {
        "colab": {
          "base_uri": "https://localhost:8080/"
        },
        "id": "r-EYzE0iZnta",
        "outputId": "ca0ab390-6b16-4827-97be-884fbf339adb"
      },
      "execution_count": 2,
      "outputs": [
        {
          "output_type": "stream",
          "name": "stdout",
          "text": [
            "Dataset (exam scores): [67 64 73 75 71 68 73 65 67 70 63 67]\n"
          ]
        }
      ]
    },
    {
      "cell_type": "code",
      "source": [
        "mu_0 = 65"
      ],
      "metadata": {
        "id": "1TBC_djZZxtp"
      },
      "execution_count": 3,
      "outputs": []
    },
    {
      "cell_type": "code",
      "source": [
        "t_stat, p_value = stats.ttest_1samp(data, mu_0)\n",
        "df = len(data) - 1\n",
        "sample_mean = np.mean(data)\n",
        "\n",
        "print(\"\\nt-Test Results\")\n",
        "print(f\"Sample mean      = {sample_mean:.2f}\")\n",
        "print(f\"Hypothesized μ   = {mu_0}\")\n",
        "print(f\"t-statistic      = {t_stat:.4f}\")\n",
        "print(f\"Degrees of freedom (df) = {df}\")\n",
        "print(f\"p-value          = {p_value:.4f}\")"
      ],
      "metadata": {
        "colab": {
          "base_uri": "https://localhost:8080/"
        },
        "id": "AEsWBo-JZ1Bu",
        "outputId": "45a1c91b-cf2d-4c65-9ac3-d95e6575a886"
      },
      "execution_count": 5,
      "outputs": [
        {
          "output_type": "stream",
          "name": "stdout",
          "text": [
            "\n",
            "t-Test Results\n",
            "Sample mean      = 68.58\n",
            "Hypothesized μ   = 65\n",
            "t-statistic      = 3.2454\n",
            "Degrees of freedom (df) = 11\n",
            "p-value          = 0.0078\n"
          ]
        }
      ]
    },
    {
      "cell_type": "code",
      "source": [
        "alpha = 0.05\n",
        "sem = stats.sem(data)  # standard error of mean\n",
        "ci = stats.t.interval(0.95, df, loc=sample_mean, scale=sem)\n",
        "\n",
        "print(\"\\n95% Confidence Interval\")\n",
        "print(f\"95% CI for mean = {ci[0]:.2f} to {ci[1]:.2f}\")\n"
      ],
      "metadata": {
        "colab": {
          "base_uri": "https://localhost:8080/"
        },
        "id": "oqgIIsoiZ6Qn",
        "outputId": "e0c80003-29af-43df-cb20-682691aef6dc"
      },
      "execution_count": 7,
      "outputs": [
        {
          "output_type": "stream",
          "name": "stdout",
          "text": [
            "\n",
            "95% Confidence Interval\n",
            "95% CI for mean = 66.15 to 71.01\n"
          ]
        }
      ]
    },
    {
      "cell_type": "code",
      "source": [
        "if p_value < alpha:\n",
        "    decision = \"Reject H0 → The sample mean is significantly different from 65.\"\n",
        "else:\n",
        "    decision = \"Fail to Reject H0 → The sample mean is not significantly different from 65.\"\n",
        "\n",
        "print(\"\\nDecision\")\n",
        "print(decision)"
      ],
      "metadata": {
        "colab": {
          "base_uri": "https://localhost:8080/"
        },
        "id": "XhPpEdAUZ-Vn",
        "outputId": "81bbc3b8-4951-4552-cd6b-da5e704089dc"
      },
      "execution_count": 9,
      "outputs": [
        {
          "output_type": "stream",
          "name": "stdout",
          "text": [
            "\n",
            "Decision\n",
            "Reject H0 → The sample mean is significantly different from 65.\n"
          ]
        }
      ]
    },
    {
      "cell_type": "code",
      "source": [
        "plt.figure(figsize=(7,5))\n",
        "plt.errorbar(x=1, y=sample_mean, yerr=sem, fmt='o', color='blue',\n",
        "             capsize=5, label=f\"Sample Mean = {sample_mean:.2f}\")\n",
        "plt.axhline(mu_0, color='red', linestyle='--', label=\"Hypothesized Mean = 65\")\n",
        "plt.xlim(0,2)\n",
        "plt.xticks([])\n",
        "plt.ylabel(\"Exam Scores\")\n",
        "plt.title(\"One-Sample t-Test: Sample Mean vs Hypothesized Mean\")\n",
        "plt.legend()\n",
        "plt.show()"
      ],
      "metadata": {
        "colab": {
          "base_uri": "https://localhost:8080/",
          "height": 444
        },
        "id": "6jIJoCpgaClF",
        "outputId": "f53c3066-16b3-412c-c6bd-5a7f3c8b1938"
      },
      "execution_count": 10,
      "outputs": [
        {
          "output_type": "display_data",
          "data": {
            "text/plain": [
              "<Figure size 700x500 with 1 Axes>"
            ],
            "image/png": "[encoded data removed]"
          },
          "metadata": {}
        }
      ]
    }
  ]
}