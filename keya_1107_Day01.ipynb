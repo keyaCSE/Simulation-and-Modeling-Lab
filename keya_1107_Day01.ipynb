{
  "nbformat": 4,
  "nbformat_minor": 0,
  "metadata": {
    "colab": {
      "provenance": []
    },
    "kernelspec": {
      "name": "python3",
      "display_name": "Python 3"
    },
    "language_info": {
      "name": "python"
    }
  },
  "cells": [
    {
      "cell_type": "code",
      "execution_count": 6,
      "metadata": {
        "id": "Kw-3UQfB1FvD"
      },
      "outputs": [],
      "source": [
        "import numpy as np\n",
        "from sympy import Matrix\n",
        "import matplotlib.pyplot as plt\n",
        "import seaborn as sns\n",
        "\n",
        "\n"
      ]
    },
    {
      "cell_type": "code",
      "source": [
        "#scalar and array inputs\n",
        "scalar = 3.7\n",
        "arr = np.array([1, 2, 3, 4, 5,6])\n",
        "\n",
        "# Trigonometric functions\n",
        "sin_values = np.sin(arr)\n",
        "cos_values = np.cos(arr)\n",
        "tan_values = np.tan(arr)\n",
        "asin_values = np.arcsin(np.clip(arr / np.max(arr), -1, 1))\n",
        "acos_values = np.arccos(np.clip(arr / np.max(arr), -1, 1))\n",
        "atan_values = np.arctan(arr)\n",
        "# Display results\n",
        "print(\"sin:\", sin_values)\n",
        "print(\"cos:\", cos_values)\n",
        "print(\"tan:\", tan_values)\n",
        "print(\"asin:\", asin_values)\n",
        "print(\"acos:\", acos_values)\n",
        "print(\"atan:\", atan_values)"
      ],
      "metadata": {
        "colab": {
          "base_uri": "https://localhost:8080/"
        },
        "id": "2q-lt4CH_3Pd",
        "outputId": "f7cfc7b6-97ff-442e-b946-5ab4d165a425"
      },
      "execution_count": 7,
      "outputs": [
        {
          "output_type": "stream",
          "name": "stdout",
          "text": [
            "sin: [ 0.84147098  0.90929743  0.14112001 -0.7568025  -0.95892427 -0.2794155 ]\n",
            "cos: [ 0.54030231 -0.41614684 -0.9899925  -0.65364362  0.28366219  0.96017029]\n",
            "tan: [ 1.55740772 -2.18503986 -0.14254654  1.15782128 -3.38051501 -0.29100619]\n",
            "asin: [0.16744808 0.33983691 0.52359878 0.72972766 0.98511078 1.57079633]\n",
            "acos: [1.40334825 1.23095942 1.04719755 0.84106867 0.58568554 0.        ]\n",
            "atan: [0.78539816 1.10714872 1.24904577 1.32581766 1.37340077 1.40564765]\n"
          ]
        }
      ]
    },
    {
      "cell_type": "code",
      "source": [
        "# Creating a 2x2 matrix\n",
        "matrix = np.array([[1, 2], [3, 4],[5,6]])\n",
        "\n",
        "# Trigonometric functions\n",
        "sin_values = np.sin(matrix)\n",
        "cos_values = np.cos(matrix)\n",
        "tan_values = np.tan(matrix)\n",
        "asin_values = np.arcsin(np.clip(matrix / np.max(matrix), -1, 1))\n",
        "acos_values = np.arccos(np.clip(matrix / np.max(matrix), -1, 1))\n",
        "atan_values = np.arctan(matrix)\n",
        "\n",
        "# Exponential and logarithm\n",
        "exp_values = np.exp(matrix)\n",
        "log_values = np.log(matrix)\n",
        "\n",
        "# Absolute value and square root\n",
        "abs_values = np.abs(matrix)\n",
        "sqrt_values = np.sqrt(matrix)\n",
        "\n",
        "# Remainder when divided by a scalar (e.g., 2)\n",
        "rem_values = np.remainder(matrix, 2)\n",
        "\n",
        "# Rounding functions\n",
        "round_values = np.round(matrix)\n",
        "floor_values = np.floor(matrix)\n",
        "ceil_values = np.ceil(matrix)\n",
        "\n",
        "# Display results\n",
        "print(\"Matrix:\\n\", matrix)\n",
        "print(\"\\nsin:\\n\", sin_values)\n",
        "print(\"\\ncos:\\n\", cos_values)\n",
        "print(\"\\ntan:\\n\", tan_values)\n",
        "print(\"\\nasine:\\n\", asin_values)\n",
        "print(\"\\nacosine:\\n\", acos_values)\n",
        "print(\"\\natangent:\\n\", atan_values)\n",
        "print(\"\\nexp:\\n\", exp_values)\n",
        "print(\"\\nlog (natural):\\n\", log_values)\n",
        "print(\"\\nabs:\\n\", abs_values)\n",
        "print(\"\\nsqrt:\\n\", sqrt_values)\n",
        "print(\"\\nrem (remainder when divided by 2):\\n\", rem_values)\n",
        "print(\"\\nround:\\n\", round_values)\n",
        "print(\"\\nfloor:\\n\", floor_values)\n",
        "print(\"\\nceil:\\n\", ceil_values)\n"
      ],
      "metadata": {
        "colab": {
          "base_uri": "https://localhost:8080/"
        },
        "id": "uJI8J7TyAXg0",
        "outputId": "8201247b-5640-4fd6-d0a2-31caadc9fbd7"
      },
      "execution_count": 8,
      "outputs": [
        {
          "output_type": "stream",
          "name": "stdout",
          "text": [
            "Matrix:\n",
            " [[1 2]\n",
            " [3 4]\n",
            " [5 6]]\n",
            "\n",
            "sin:\n",
            " [[ 0.84147098  0.90929743]\n",
            " [ 0.14112001 -0.7568025 ]\n",
            " [-0.95892427 -0.2794155 ]]\n",
            "\n",
            "cos:\n",
            " [[ 0.54030231 -0.41614684]\n",
            " [-0.9899925  -0.65364362]\n",
            " [ 0.28366219  0.96017029]]\n",
            "\n",
            "tan:\n",
            " [[ 1.55740772 -2.18503986]\n",
            " [-0.14254654  1.15782128]\n",
            " [-3.38051501 -0.29100619]]\n",
            "\n",
            "asine:\n",
            " [[0.16744808 0.33983691]\n",
            " [0.52359878 0.72972766]\n",
            " [0.98511078 1.57079633]]\n",
            "\n",
            "acosine:\n",
            " [[1.40334825 1.23095942]\n",
            " [1.04719755 0.84106867]\n",
            " [0.58568554 0.        ]]\n",
            "\n",
            "atangent:\n",
            " [[0.78539816 1.10714872]\n",
            " [1.24904577 1.32581766]\n",
            " [1.37340077 1.40564765]]\n",
            "\n",
            "exp:\n",
            " [[  2.71828183   7.3890561 ]\n",
            " [ 20.08553692  54.59815003]\n",
            " [148.4131591  403.42879349]]\n",
            "\n",
            "log (natural):\n",
            " [[0.         0.69314718]\n",
            " [1.09861229 1.38629436]\n",
            " [1.60943791 1.79175947]]\n",
            "\n",
            "abs:\n",
            " [[1 2]\n",
            " [3 4]\n",
            " [5 6]]\n",
            "\n",
            "sqrt:\n",
            " [[1.         1.41421356]\n",
            " [1.73205081 2.        ]\n",
            " [2.23606798 2.44948974]]\n",
            "\n",
            "rem (remainder when divided by 2):\n",
            " [[1 0]\n",
            " [1 0]\n",
            " [1 0]]\n",
            "\n",
            "round:\n",
            " [[1 2]\n",
            " [3 4]\n",
            " [5 6]]\n",
            "\n",
            "floor:\n",
            " [[1. 2.]\n",
            " [3. 4.]\n",
            " [5. 6.]]\n",
            "\n",
            "ceil:\n",
            " [[1. 2.]\n",
            " [3. 4.]\n",
            " [5. 6.]]\n"
          ]
        }
      ]
    },
    {
      "cell_type": "code",
      "source": [
        "#vector\n",
        "vec = np.array([[1.2,3.2,8.2],[9.2,5.2 ,6.2]])\n",
        "\n",
        "\n",
        "# 1. Maximum value and index of max element\n",
        "max_value = np.max(vec)\n",
        "max_index = np.argmax(vec)  # Index of max element\n",
        "\n",
        "# 2. Minimum value and index of min element\n",
        "min_value = np.min(vec)\n",
        "min_index = np.argmin(vec)  # Index of min element\n",
        "\n",
        "# 3. Length of the vector\n",
        "vec_length = len(vec)  # Equivalent to MATLAB's length()\n",
        "\n",
        "# 4. Sorting in ascending order\n",
        "sorted_vec = np.sort(vec)\n",
        "\n",
        "\n",
        "\n",
        "entire_sorted = -np.sort(-vec.flatten())\n",
        "# 5. Sum of elements\n",
        "sum_values = np.sum(vec)\n",
        "\n",
        "# 6. Product of elements\n",
        "prod_values = np.prod(vec)\n",
        "\n",
        "# 7. Median value\n",
        "median_value = np.median(vec)\n",
        "\n",
        "# 8. Mean value\n",
        "mean_value = np.mean(vec)\n",
        "\n",
        "# 9. Standard deviation\n",
        "std_dev = np.std(vec)\n",
        "\n",
        "# Display results\n",
        "print(\"Max value:\", max_value, \"at index\", max_index)\n",
        "print(\"Min value:\", min_value, \"at index\", min_index)\n",
        "print(\"Length of vector:\", vec_length)\n",
        "print(\"Sorted vector:\", sorted_vec)\n",
        "print(\"Entire Sorted vector:\", entire_sorted)\n",
        "\n",
        "print(\"Sum of elements:\", sum_values)\n",
        "print(\"Product of elements:\", prod_values)\n",
        "print(\"Median value:\", median_value)\n",
        "print(\"Mean value:\", mean_value)\n",
        "print(\"Standard deviation:\", std_dev)"
      ],
      "metadata": {
        "colab": {
          "base_uri": "https://localhost:8080/"
        },
        "id": "-jibIisHCBvF",
        "outputId": "72cb14e9-f121-4629-a53c-949446a1680f"
      },
      "execution_count": 18,
      "outputs": [
        {
          "output_type": "stream",
          "name": "stdout",
          "text": [
            "Max value: 9.2 at index 3\n",
            "Min value: 1.2 at index 0\n",
            "Length of vector: 2\n",
            "Sorted vector: [[1.2 3.2 8.2]\n",
            " [5.2 6.2 9.2]]\n",
            "Entire Sorted vector: [9.2 8.2 6.2 5.2 3.2 1.2]\n",
            "Sum of elements: 33.199999999999996\n",
            "Product of elements: 9339.592703999999\n",
            "Median value: 5.7\n",
            "Mean value: 5.533333333333332\n",
            "Standard deviation: 2.7487370837451066\n"
          ]
        }
      ]
    }
  ]
}